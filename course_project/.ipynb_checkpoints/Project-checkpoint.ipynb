{
 "cells": [
  {
   "cell_type": "markdown",
   "metadata": {},
   "source": [
    "#Predicting earthquakes in the Bay Area"
   ]
  },
  {
   "cell_type": "markdown",
   "metadata": {},
   "source": [
    "I obtained the data through several pages. First I need the earthquakes in this area. I obtained the data from the Earthquake Hazards Program. The USGS Earthquake Hazards Program is part of the National Earthquake Hazards Reduction Program (NEHRP), established by Congress in 1977. They monitor and report earthquakes, assess earthquake impacts and hazards, and research the causes and effects of earthquakes. Accessable over this link: http://earthquake.usgs.gov/earthquakes/search/\n",
    "\n",
    "## Basic Options\n",
    "Date & Time: I chose from 2014-10-27 till 2015-10-25.\n",
    "Magnitude: I chose everything from starting from a Minimum of \"1\".\n",
    "Depth (km): I left blank.\n",
    "Rectangle: North(38.436), East(-121.377), South(36.967), West(-123.096)\n",
    "Circle/ Donut: I left blank.\n",
    "\n",
    "## Advanced Options\n",
    "Azimuthal Gap: I left blank.\n",
    "Event Type: I selected just Earthquakes.\n",
    "Review Status: I selected any.\n",
    "\n",
    "## Output Options\n",
    "Format: I selected CSV.\n",
    "Order By: I selected \"Time - Newest First\".\n",
    "Limit Results: I left blank.\n",
    "\n",
    "I downloaded it as eq.csv in the data folder."
   ]
  },
  {
   "cell_type": "markdown",
   "metadata": {},
   "source": [
    "We need to import the necessary packages:"
   ]
  },
  {
   "cell_type": "code",
   "execution_count": 1,
   "metadata": {
    "collapsed": true
   },
   "outputs": [],
   "source": [
    "#Importing necessary packages\n",
    "import pandas as pd\n",
    "import numpy as np\n",
    "import seaborn as sns\n",
    "import matplotlib.pyplot as plt\n",
    "from sklearn.linear_model import LinearRegression\n",
    "from sklearn.linear_model import LogisticRegression\n",
    "from sklearn.neighbors import KNeighborsClassifier\n",
    "from sklearn.cross_validation import train_test_split\n",
    "from sklearn import metrics\n",
    "import statsmodels.formula.api as smf\n",
    "import seaborn as sns\n",
    "#Using the magic variable\n",
    "%matplotlib inline"
   ]
  },
  {
   "cell_type": "markdown",
   "metadata": {},
   "source": [
    "After we have done this let's have a look at the data:"
   ]
  },
  {
   "cell_type": "code",
   "execution_count": 2,
   "metadata": {
    "collapsed": false
   },
   "outputs": [
    {
     "name": "stdout",
     "output_type": "stream",
     "text": [
      "<class 'pandas.core.frame.DataFrame'>\n",
      "Int64Index: 1258 entries, 0 to 1257\n",
      "Data columns (total 15 columns):\n",
      "time         1258 non-null object\n",
      "latitude     1258 non-null float64\n",
      "longitude    1258 non-null float64\n",
      "depth        1258 non-null float64\n",
      "mag          1258 non-null float64\n",
      "magType      1258 non-null object\n",
      "nst          1258 non-null int64\n",
      "gap          1258 non-null float64\n",
      "dmin         1252 non-null float64\n",
      "rms          1258 non-null float64\n",
      "net          1258 non-null object\n",
      "id           1258 non-null object\n",
      "updated      1258 non-null object\n",
      "place        1258 non-null object\n",
      "type         1258 non-null object\n",
      "dtypes: float64(7), int64(1), object(7)\n",
      "memory usage: 157.2+ KB\n",
      "None\n",
      "<class 'pandas.core.frame.DataFrame'>\n",
      "Int64Index: 6055 entries, 0 to 6054\n",
      "Data columns (total 15 columns):\n",
      "time         6055 non-null object\n",
      "latitude     6055 non-null float64\n",
      "longitude    6055 non-null float64\n",
      "depth        6055 non-null float64\n",
      "mag          6055 non-null float64\n",
      "magType      6054 non-null object\n",
      "nst          3404 non-null float64\n",
      "gap          4865 non-null float64\n",
      "dmin         4246 non-null float64\n",
      "rms          4298 non-null float64\n",
      "net          6055 non-null object\n",
      "id           6055 non-null object\n",
      "updated      6055 non-null object\n",
      "place        6055 non-null object\n",
      "type         6055 non-null object\n",
      "dtypes: float64(8), object(7)\n",
      "memory usage: 756.9+ KB\n",
      "None\n"
     ]
    }
   ],
   "source": [
    "eq = pd.read_csv('data/eq.csv')\n",
    "eq2 = pd.read_csv('data/eq1977-2015.csv')\n",
    "print eq.info() # 15 columns with 1258 entries, 7 objects, 7 float64 and 1 int64\n",
    "print eq2.info()"
   ]
  },
  {
   "cell_type": "code",
   "execution_count": 16,
   "metadata": {
    "collapsed": false
   },
   "outputs": [
    {
     "name": "stdout",
     "output_type": "stream",
     "text": [
      "Index([u'time', u'latitude', u'longitude', u'depth', u'mag', u'magType',\n",
      "       u'nst', u'gap', u'dmin', u'rms', u'net', u'id', u'updated', u'place',\n",
      "       u'type'],\n",
      "      dtype='object')\n",
      "Index([u'time', u'latitude', u'longitude', u'depth', u'mag', u'magType',\n",
      "       u'nst', u'gap', u'dmin', u'rms', u'net', u'id', u'updated', u'place',\n",
      "       u'type'],\n",
      "      dtype='object')\n"
     ]
    }
   ],
   "source": [
    "print eq.columns # Those are our columns\n",
    "print eq2.columns # Same as eq"
   ]
  },
  {
   "cell_type": "markdown",
   "metadata": {},
   "source": [
    "# What does each column mean?\n",
    "(Find more details: http://earthquake.usgs.gov/earthquakes/feed/v1.0/csv.php)\n",
    "\n",
    "##time\n",
    "Data Type: Long Integer\n",
    "Description:\n",
    "Time when the event occurred. Times are reported in milliseconds since the epoch ( 1970-01-01T00:00:00.000Z), and do not include leap seconds. In certain output formats, the date is formatted for readability.\n",
    "\n",
    "##latitude\n",
    "Data Type: Decimal\n",
    "Typical Values: [-90.0, 90.0]\n",
    "Description:\n",
    "Decimal degrees latitude. Negative values for southern latitudes.\n",
    "\n",
    "##longitude\n",
    "Data Type: Decimal\n",
    "Typical Values: [-180.0, 180.0]\n",
    "Description:\n",
    "Decimal degrees longitude. Negative values for western longitudes.\n",
    "\n",
    "##depth\n",
    "Data Type: Decimal\n",
    "Typical Values: [0, 1000]\n",
    "Description:\n",
    "Depth of the event in kilometers.\n",
    "\n",
    "##mag\n",
    "Data Type: Decimal\n",
    "Typical Values: [-1.0, 10.0]\n",
    "Description:\n",
    "The magnitude for the event.\n",
    "\n",
    "##magType\n",
    "Data Type: String\n",
    "Typical Values: “Md”, “Ml”, “Ms”, “Mw”, “Me”, “Mi”, “Mb”, “MLg”\n",
    "Description:\n",
    "The method or algorithm used to calculate the preferred magnitude for the event.\n",
    "\n",
    "##nst\n",
    "Data Type: Integer\n",
    "Description:\n",
    "The total number of Number of seismic stations which reported P- and S-arrival times for this earthquake.\n",
    "\n",
    "##gap\n",
    "Data Type: Decimal\n",
    "Typical Values: [0.0, 180.0]\n",
    "Description:\n",
    "The largest azimuthal gap between azimuthally adjacent stations (in degrees). In general, the smaller this number, the more reliable is the calculated horizontal position of the earthquake.\n",
    "\n",
    "##dmin\n",
    "Data Type: Decimal\n",
    "Typical Values: [0.4, 7.1]\n",
    "Description:\n",
    "Horizontal distance from the epicenter to the nearest station (in degrees). 1 degree is approximately 111.2 kilometers. In general, the smaller this number, the more reliable is the calculated depth of the earthquake.\n",
    "\n",
    "##rms\n",
    "Data Type: Decimal\n",
    "Typical Values: [0.13,1.39]\n",
    "Description:\n",
    "The root-mean-square (RMS) travel time residual, in sec, using all weights. This parameter provides a measure of the fit of the observed arrival times to the predicted arrival times for this location. Smaller numbers reflect a better fit of the data. The value is dependent on the accuracy of the velocity model used to compute the earthquake location, the quality weights assigned to the arrival time data, and the procedure used to locate the earthquake.\n",
    "\n",
    "##net\n",
    "Data Type: String\n",
    "Typical Values: ak, at, ci, hv, ld, mb, nc, nm, nn, pr, pt, se, us, uu, uw\n",
    "Description:\n",
    "The ID of a data contributor. Identifies the network considered to be the preferred source of information for this event.\n",
    "\n",
    "##id\n",
    "Data Type: String\n",
    "Typical Values: A (generally) two-character network identifier with a (generally) eight-character network-assigned code.\n",
    "Description:\n",
    "A unique identifier for the event. This is the current preferred id for the event, and may change over time. See the \"ids\" GeoJSON format property.\n",
    "\n",
    "##updated\n",
    "Data Type: Long Integer\n",
    "Description:\n",
    "Time when the event was most recently updated. Times are reported in milliseconds since the epoch. In certain output formats, the date is formatted for readability.\n",
    "\n",
    "##place\n",
    "Data Type: String\n",
    "Description:\n",
    "Textual description of named geographic region near to the event. This may be a city name, or a Flinn-Engdahl Region name.\n"
   ]
  },
  {
   "cell_type": "code",
   "execution_count": 5,
   "metadata": {
    "collapsed": false
   },
   "outputs": [
    {
     "data": {
      "text/plain": [
       "(1258, 15)"
      ]
     },
     "execution_count": 5,
     "metadata": {},
     "output_type": "execute_result"
    }
   ],
   "source": [
    "eq.shape # looking at the shape of the data."
   ]
  },
  {
   "cell_type": "code",
   "execution_count": 6,
   "metadata": {
    "collapsed": false
   },
   "outputs": [
    {
     "data": {
      "text/html": [
       "<div>\n",
       "<table border=\"1\" class=\"dataframe\">\n",
       "  <thead>\n",
       "    <tr style=\"text-align: right;\">\n",
       "      <th></th>\n",
       "      <th>time</th>\n",
       "      <th>latitude</th>\n",
       "      <th>longitude</th>\n",
       "      <th>depth</th>\n",
       "      <th>mag</th>\n",
       "      <th>magType</th>\n",
       "      <th>nst</th>\n",
       "      <th>gap</th>\n",
       "      <th>dmin</th>\n",
       "      <th>rms</th>\n",
       "      <th>net</th>\n",
       "      <th>id</th>\n",
       "      <th>updated</th>\n",
       "      <th>place</th>\n",
       "      <th>type</th>\n",
       "    </tr>\n",
       "  </thead>\n",
       "  <tbody>\n",
       "    <tr>\n",
       "      <th>0</th>\n",
       "      <td>2015-10-24T22:05:29.210Z</td>\n",
       "      <td>37.783833</td>\n",
       "      <td>-121.964000</td>\n",
       "      <td>7.81</td>\n",
       "      <td>1.96</td>\n",
       "      <td>md</td>\n",
       "      <td>58</td>\n",
       "      <td>54</td>\n",
       "      <td>0.007601</td>\n",
       "      <td>0.10</td>\n",
       "      <td>nc</td>\n",
       "      <td>nc72543265</td>\n",
       "      <td>2015-10-30T17:32:46.850Z</td>\n",
       "      <td>1km ENE of San Ramon, California</td>\n",
       "      <td>earthquake</td>\n",
       "    </tr>\n",
       "    <tr>\n",
       "      <th>1</th>\n",
       "      <td>2015-10-24T20:56:26.320Z</td>\n",
       "      <td>37.799000</td>\n",
       "      <td>-121.961167</td>\n",
       "      <td>7.92</td>\n",
       "      <td>1.42</td>\n",
       "      <td>md</td>\n",
       "      <td>18</td>\n",
       "      <td>58</td>\n",
       "      <td>0.064730</td>\n",
       "      <td>0.05</td>\n",
       "      <td>nc</td>\n",
       "      <td>nc72543250</td>\n",
       "      <td>2015-10-30T17:02:39.480Z</td>\n",
       "      <td>2km NE of San Ramon, California</td>\n",
       "      <td>earthquake</td>\n",
       "    </tr>\n",
       "    <tr>\n",
       "      <th>2</th>\n",
       "      <td>2015-10-24T19:39:15.640Z</td>\n",
       "      <td>37.779333</td>\n",
       "      <td>-121.968000</td>\n",
       "      <td>7.23</td>\n",
       "      <td>1.15</td>\n",
       "      <td>md</td>\n",
       "      <td>16</td>\n",
       "      <td>98</td>\n",
       "      <td>0.081740</td>\n",
       "      <td>0.05</td>\n",
       "      <td>nc</td>\n",
       "      <td>nc72543225</td>\n",
       "      <td>2015-10-30T16:54:36.860Z</td>\n",
       "      <td>0km E of San Ramon, California</td>\n",
       "      <td>earthquake</td>\n",
       "    </tr>\n",
       "    <tr>\n",
       "      <th>3</th>\n",
       "      <td>2015-10-24T18:14:00.940Z</td>\n",
       "      <td>37.232833</td>\n",
       "      <td>-122.176167</td>\n",
       "      <td>8.72</td>\n",
       "      <td>2.05</td>\n",
       "      <td>md</td>\n",
       "      <td>68</td>\n",
       "      <td>142</td>\n",
       "      <td>0.018870</td>\n",
       "      <td>0.21</td>\n",
       "      <td>nc</td>\n",
       "      <td>nc72543180</td>\n",
       "      <td>2015-11-04T03:31:31.974Z</td>\n",
       "      <td>12km NNW of Boulder Creek, California</td>\n",
       "      <td>earthquake</td>\n",
       "    </tr>\n",
       "    <tr>\n",
       "      <th>4</th>\n",
       "      <td>2015-10-24T17:00:16.810Z</td>\n",
       "      <td>37.799833</td>\n",
       "      <td>-121.964000</td>\n",
       "      <td>7.74</td>\n",
       "      <td>1.78</td>\n",
       "      <td>md</td>\n",
       "      <td>38</td>\n",
       "      <td>59</td>\n",
       "      <td>0.013920</td>\n",
       "      <td>0.08</td>\n",
       "      <td>nc</td>\n",
       "      <td>nc72543150</td>\n",
       "      <td>2015-10-30T16:49:31.587Z</td>\n",
       "      <td>2km NNE of San Ramon, California</td>\n",
       "      <td>earthquake</td>\n",
       "    </tr>\n",
       "  </tbody>\n",
       "</table>\n",
       "</div>"
      ],
      "text/plain": [
       "                       time   latitude   longitude  depth   mag magType  nst  \\\n",
       "0  2015-10-24T22:05:29.210Z  37.783833 -121.964000   7.81  1.96      md   58   \n",
       "1  2015-10-24T20:56:26.320Z  37.799000 -121.961167   7.92  1.42      md   18   \n",
       "2  2015-10-24T19:39:15.640Z  37.779333 -121.968000   7.23  1.15      md   16   \n",
       "3  2015-10-24T18:14:00.940Z  37.232833 -122.176167   8.72  2.05      md   68   \n",
       "4  2015-10-24T17:00:16.810Z  37.799833 -121.964000   7.74  1.78      md   38   \n",
       "\n",
       "   gap      dmin   rms net          id                   updated  \\\n",
       "0   54  0.007601  0.10  nc  nc72543265  2015-10-30T17:32:46.850Z   \n",
       "1   58  0.064730  0.05  nc  nc72543250  2015-10-30T17:02:39.480Z   \n",
       "2   98  0.081740  0.05  nc  nc72543225  2015-10-30T16:54:36.860Z   \n",
       "3  142  0.018870  0.21  nc  nc72543180  2015-11-04T03:31:31.974Z   \n",
       "4   59  0.013920  0.08  nc  nc72543150  2015-10-30T16:49:31.587Z   \n",
       "\n",
       "                                   place        type  \n",
       "0       1km ENE of San Ramon, California  earthquake  \n",
       "1        2km NE of San Ramon, California  earthquake  \n",
       "2         0km E of San Ramon, California  earthquake  \n",
       "3  12km NNW of Boulder Creek, California  earthquake  \n",
       "4       2km NNE of San Ramon, California  earthquake  "
      ]
     },
     "execution_count": 6,
     "metadata": {},
     "output_type": "execute_result"
    }
   ],
   "source": [
    "eq.head()  # look at the first 5 rows"
   ]
  },
  {
   "cell_type": "markdown",
   "metadata": {},
   "source": [
    "Let us look at the numeric columns in this area:"
   ]
  },
  {
   "cell_type": "code",
   "execution_count": 8,
   "metadata": {
    "collapsed": false
   },
   "outputs": [
    {
     "data": {
      "text/html": [
       "<div>\n",
       "<table border=\"1\" class=\"dataframe\">\n",
       "  <thead>\n",
       "    <tr style=\"text-align: right;\">\n",
       "      <th></th>\n",
       "      <th>latitude</th>\n",
       "      <th>longitude</th>\n",
       "      <th>depth</th>\n",
       "      <th>mag</th>\n",
       "      <th>nst</th>\n",
       "      <th>gap</th>\n",
       "      <th>dmin</th>\n",
       "      <th>rms</th>\n",
       "    </tr>\n",
       "  </thead>\n",
       "  <tbody>\n",
       "    <tr>\n",
       "      <th>count</th>\n",
       "      <td>1258.000000</td>\n",
       "      <td>1258.000000</td>\n",
       "      <td>1258.000000</td>\n",
       "      <td>1258.000000</td>\n",
       "      <td>1258.000000</td>\n",
       "      <td>1258.000000</td>\n",
       "      <td>1252.000000</td>\n",
       "      <td>1258.000000</td>\n",
       "    </tr>\n",
       "    <tr>\n",
       "      <th>mean</th>\n",
       "      <td>37.747294</td>\n",
       "      <td>-122.028321</td>\n",
       "      <td>7.917711</td>\n",
       "      <td>1.551121</td>\n",
       "      <td>36.819555</td>\n",
       "      <td>81.220827</td>\n",
       "      <td>0.049636</td>\n",
       "      <td>0.078267</td>\n",
       "    </tr>\n",
       "    <tr>\n",
       "      <th>std</th>\n",
       "      <td>0.336284</td>\n",
       "      <td>0.274621</td>\n",
       "      <td>3.075314</td>\n",
       "      <td>0.491846</td>\n",
       "      <td>31.365909</td>\n",
       "      <td>40.856766</td>\n",
       "      <td>0.040866</td>\n",
       "      <td>0.037514</td>\n",
       "    </tr>\n",
       "    <tr>\n",
       "      <th>min</th>\n",
       "      <td>36.967833</td>\n",
       "      <td>-123.083500</td>\n",
       "      <td>0.020000</td>\n",
       "      <td>1.000000</td>\n",
       "      <td>4.000000</td>\n",
       "      <td>12.000000</td>\n",
       "      <td>0.001212</td>\n",
       "      <td>0.020000</td>\n",
       "    </tr>\n",
       "    <tr>\n",
       "      <th>25%</th>\n",
       "      <td>37.563458</td>\n",
       "      <td>-122.207458</td>\n",
       "      <td>6.320000</td>\n",
       "      <td>1.160000</td>\n",
       "      <td>18.000000</td>\n",
       "      <td>55.000000</td>\n",
       "      <td>0.025105</td>\n",
       "      <td>0.050000</td>\n",
       "    </tr>\n",
       "    <tr>\n",
       "      <th>50%</th>\n",
       "      <td>37.785333</td>\n",
       "      <td>-121.966167</td>\n",
       "      <td>7.800000</td>\n",
       "      <td>1.400000</td>\n",
       "      <td>26.000000</td>\n",
       "      <td>70.000000</td>\n",
       "      <td>0.045500</td>\n",
       "      <td>0.070000</td>\n",
       "    </tr>\n",
       "    <tr>\n",
       "      <th>75%</th>\n",
       "      <td>37.908167</td>\n",
       "      <td>-121.909750</td>\n",
       "      <td>9.080000</td>\n",
       "      <td>1.820000</td>\n",
       "      <td>44.750000</td>\n",
       "      <td>98.000000</td>\n",
       "      <td>0.071477</td>\n",
       "      <td>0.100000</td>\n",
       "    </tr>\n",
       "    <tr>\n",
       "      <th>max</th>\n",
       "      <td>38.434000</td>\n",
       "      <td>-121.423333</td>\n",
       "      <td>21.240000</td>\n",
       "      <td>4.090000</td>\n",
       "      <td>282.000000</td>\n",
       "      <td>301.000000</td>\n",
       "      <td>0.742000</td>\n",
       "      <td>0.260000</td>\n",
       "    </tr>\n",
       "  </tbody>\n",
       "</table>\n",
       "</div>"
      ],
      "text/plain": [
       "          latitude    longitude        depth          mag          nst  \\\n",
       "count  1258.000000  1258.000000  1258.000000  1258.000000  1258.000000   \n",
       "mean     37.747294  -122.028321     7.917711     1.551121    36.819555   \n",
       "std       0.336284     0.274621     3.075314     0.491846    31.365909   \n",
       "min      36.967833  -123.083500     0.020000     1.000000     4.000000   \n",
       "25%      37.563458  -122.207458     6.320000     1.160000    18.000000   \n",
       "50%      37.785333  -121.966167     7.800000     1.400000    26.000000   \n",
       "75%      37.908167  -121.909750     9.080000     1.820000    44.750000   \n",
       "max      38.434000  -121.423333    21.240000     4.090000   282.000000   \n",
       "\n",
       "               gap         dmin          rms  \n",
       "count  1258.000000  1252.000000  1258.000000  \n",
       "mean     81.220827     0.049636     0.078267  \n",
       "std      40.856766     0.040866     0.037514  \n",
       "min      12.000000     0.001212     0.020000  \n",
       "25%      55.000000     0.025105     0.050000  \n",
       "50%      70.000000     0.045500     0.070000  \n",
       "75%      98.000000     0.071477     0.100000  \n",
       "max     301.000000     0.742000     0.260000  "
      ]
     },
     "execution_count": 8,
     "metadata": {},
     "output_type": "execute_result"
    }
   ],
   "source": [
    "eq.describe()       # describe any numeric columns"
   ]
  },
  {
   "cell_type": "markdown",
   "metadata": {},
   "source": [
    "As you can see we have in this period of one year 1258 earthquakes as count. First, we are interested in the Magnitude in column \"mag\" with a mean of 1.551121 with a minimum of 1.0000000 and maximum 4.090000. Why a minimum of 1? Because we selected this as our minimum when we downloaded the data. \n",
    "\n",
    "##When and where were this 4.0900 earthquake(s)?\n",
    "In our csv file we find two:\n",
    "\n",
    "2015-05-22T02:53:00.780Z,38.4316667,-122.2501667,13.03,4.09,mw,170,90,0.1071,0.18,nc,nc72453246,2015-07-29T01:35:32.040Z,\"10km ENE of Yountville, California\",earthquake\n",
    "\n",
    "and\n",
    "\n",
    "2015-10-23T11:56:56.680Z,37.7833333,-121.9646667,4.09,1.22,md,10,101,0.07857,0.12,nc,nc72542500,2015-10-24T02:49:07.330Z,\"1km ENE of San Ramon, California\",earthquake\n",
    "\n",
    "Both had a Magnitude of 4.09.\n",
    "\n"
   ]
  },
  {
   "cell_type": "code",
   "execution_count": 22,
   "metadata": {
    "collapsed": false,
    "scrolled": false
   },
   "outputs": [
    {
     "name": "stdout",
     "output_type": "stream",
     "text": [
      "                          time   latitude   longitude  depth   mag magType  \\\n",
      "728   2015-05-22T02:53:00.780Z  38.431667 -122.250167  13.03  4.09      mw   \n",
      "495   2015-08-17T13:49:17.320Z  37.836500 -122.232167   4.82  4.01      mw   \n",
      "591   2015-07-21T09:41:14.480Z  37.577167 -121.974000   8.38  3.98      mw   \n",
      "782   2015-05-03T22:13:19.530Z  37.964667 -122.047333  13.46  3.64      mw   \n",
      "853   2015-04-02T07:06:03.870Z  37.792000 -121.986833  10.03  3.61      mw   \n",
      "126   2015-10-19T23:21:17.680Z  37.791833 -121.963500   7.40  3.60      mw   \n",
      "762   2015-05-06T14:32:04.170Z  37.961167 -122.055500  13.24  3.51      mw   \n",
      "297   2015-10-15T13:10:20.920Z  37.786167 -121.964333   8.52  3.36      mw   \n",
      "177   2015-10-18T22:31:28.150Z  37.789833 -121.964333   8.62  3.26      mw   \n",
      "18    2015-10-23T13:48:24.590Z  37.782500 -121.965500   8.70  3.23      mw   \n",
      "550   2015-07-29T23:07:32.780Z  37.313833 -121.673667  10.68  3.22      ml   \n",
      "9     2015-10-24T07:43:46.260Z  37.781000 -121.966833   9.24  3.21      mw   \n",
      "8     2015-10-24T07:44:07.040Z  37.783167 -121.969167   9.60  3.21      mw   \n",
      "1126  2014-12-04T19:28:37.750Z  37.107500 -121.812833   4.15  3.19      mw   \n",
      "512   2015-08-09T20:26:10.610Z  37.786000 -122.592000  10.65  3.12      ml   \n",
      "336   2015-10-14T10:58:41.190Z  37.785333 -121.963667   7.96  3.08      mw   \n",
      "891   2015-03-10T17:07:23.640Z  37.746667 -122.144167   4.77  3.04      mw   \n",
      "763   2015-05-06T14:01:47.420Z  37.958167 -122.050333  13.89  3.03      ml   \n",
      "1039  2015-01-01T21:18:15.720Z  38.364667 -122.606833   7.42  3.00      ml   \n",
      "982   2015-01-30T00:04:41.280Z  38.430333 -122.237000   8.33  2.96      md   \n",
      "1150  2014-11-27T20:36:15.520Z  38.351000 -122.367167   4.91  2.95      ml   \n",
      "324   2015-10-14T15:14:04.350Z  37.788167 -121.964333   8.34  2.95      md   \n",
      "868   2015-03-23T16:27:39.900Z  37.251500 -121.989667   6.23  2.92      md   \n",
      "962   2015-02-06T11:44:24.540Z  37.454833 -122.256333   5.33  2.90      ml   \n",
      "781   2015-05-03T22:14:15.410Z  37.962500 -122.042833  12.54  2.89      md   \n",
      "80    2015-10-20T04:33:04.380Z  37.795500 -121.979000   5.87  2.84      md   \n",
      "1211  2014-11-08T11:13:27.570Z  37.295167 -122.083333   9.99  2.84      md   \n",
      "430   2015-09-07T14:35:57.290Z  38.345667 -122.388333   7.60  2.82      md   \n",
      "477   2015-08-20T04:03:56.440Z  36.985333 -121.467667   5.56  2.82      md   \n",
      "79    2015-10-20T04:33:52.850Z  37.791000 -121.968500   6.45  2.79      md   \n",
      "...                        ...        ...         ...    ...   ...     ...   \n",
      "216   2015-10-17T23:43:20.330Z  37.780833 -121.951167   6.54  1.02      md   \n",
      "1205  2014-11-10T01:19:58.830Z  38.338000 -122.377833   7.73  1.02      md   \n",
      "630   2015-07-04T20:48:29.100Z  37.995500 -122.209833   4.27  1.02      md   \n",
      "724   2015-05-22T07:03:07.140Z  37.220833 -121.615167   5.22  1.02      md   \n",
      "438   2015-09-03T14:45:11.690Z  37.158833 -121.558000   2.82  1.02      md   \n",
      "1024  2015-01-10T12:24:13.290Z  38.331833 -122.579667   7.65  1.01      md   \n",
      "1008  2015-01-18T14:40:18.260Z  37.896500 -121.977000   9.48  1.01      md   \n",
      "1240  2014-10-31T11:54:03.910Z  37.629833 -121.680333   5.24  1.01      md   \n",
      "198   2015-10-18T06:14:28.490Z  37.786333 -121.957333   7.44  1.01      md   \n",
      "873   2015-03-22T11:39:05.420Z  37.320333 -122.193833   6.60  1.01      md   \n",
      "124   2015-10-19T23:24:25.710Z  37.793333 -121.970833   6.88  1.01      md   \n",
      "958   2015-02-08T05:46:53.120Z  38.225500 -122.289500  10.09  1.01      md   \n",
      "374   2015-10-06T12:43:26.810Z  37.295833 -121.677667   3.19  1.01      md   \n",
      "539   2015-08-01T16:24:46.660Z  37.564833 -121.973667   7.76  1.01      md   \n",
      "563   2015-07-24T20:27:32.720Z  37.525667 -122.100500  10.58  1.01      md   \n",
      "388   2015-09-23T20:39:09.140Z  38.097500 -122.240333   6.16  1.01      md   \n",
      "504   2015-08-10T18:40:04.750Z  37.277500 -121.655833   5.61  1.01      md   \n",
      "1052  2014-12-28T21:22:05.210Z  37.447333 -121.798667   5.53  1.01      md   \n",
      "602   2015-07-14T10:36:33.460Z  37.472667 -121.799333   9.15  1.01      md   \n",
      "1094  2014-12-14T15:26:27.180Z  37.296833 -121.676500   3.58  1.01      md   \n",
      "609   2015-07-12T22:35:28.560Z  37.113000 -121.522000   5.69  1.01      md   \n",
      "813   2015-04-23T05:05:00.720Z  37.062833 -121.906167  17.22  1.01      md   \n",
      "537   2015-08-02T01:26:56.220Z  37.538000 -121.933500   5.18  1.01      md   \n",
      "614   2015-07-11T05:26:29.620Z  37.006667 -121.464500  10.43  1.01      md   \n",
      "526   2015-08-05T05:59:23.870Z  37.357333 -121.720000   8.09  1.00      md   \n",
      "443   2015-09-01T12:57:25.240Z  37.141333 -121.531667   7.94  1.00      md   \n",
      "560   2015-07-25T22:10:18.830Z  37.478833 -121.638167   9.60  1.00      md   \n",
      "667   2015-06-15T04:51:15.100Z  37.423500 -121.689500   8.06  1.00      md   \n",
      "6     2015-10-24T10:40:29.690Z  37.783000 -121.964667   8.07  1.00      md   \n",
      "920   2015-02-28T14:29:48.570Z  38.171667 -122.294000   8.19  1.00      md   \n",
      "\n",
      "      nst  gap      dmin   rms net          id                   updated  \\\n",
      "728   170   90  0.107100  0.18  nc  nc72453246  2015-07-29T01:35:32.040Z   \n",
      "495   268   12  0.011850  0.15  nc  nc72507396  2015-10-19T23:35:25.279Z   \n",
      "591   282   16  0.008279  0.17  nc  nc72490826  2015-10-22T15:50:48.459Z   \n",
      "782   269   30  0.013390  0.21  nc  nc72439615  2015-07-09T22:00:08.040Z   \n",
      "853   235   45  0.005873  0.14  nc  nc72424876  2015-10-24T08:06:35.869Z   \n",
      "126   161   56  0.006840  0.15  nc  nc72540765  2015-11-06T20:47:01.848Z   \n",
      "762   190   32  0.024180  0.20  nc  nc72444186  2015-07-09T22:00:15.040Z   \n",
      "297   159   39  0.006087  0.14  nc  nc72537675  2015-10-19T23:52:09.040Z   \n",
      "177   131   55  0.005574  0.14  nc  nc72540130  2015-11-01T06:44:07.470Z   \n",
      "18    133   53  0.007781  0.12  nc  nc72542520  2015-11-06T10:39:16.040Z   \n",
      "550   160   36  0.037210  0.14  nc  nc72496776  2015-10-22T20:05:15.040Z   \n",
      "9     166   53  0.008554  0.16  nc  nc72542915  2015-10-30T14:28:34.300Z   \n",
      "8     157   30  0.005879  0.21  nc  nc72542920  2015-10-27T13:24:17.586Z   \n",
      "1126  109   33  0.017430  0.13  nc  nc72360116  2015-03-20T02:20:28.213Z   \n",
      "512   199   89  0.065380  0.10  nc  nc72503636  2015-11-06T18:06:23.040Z   \n",
      "336   119   54  0.006944  0.10  nc  nc72536565  2015-10-15T19:29:45.708Z   \n",
      "891   102   18  0.037880  0.11  nc  nc72408845  2015-07-21T10:33:22.199Z   \n",
      "763   189   36  0.021850  0.22  nc  nc72444161  2015-07-09T22:00:15.040Z   \n",
      "1039  115   36  0.023560  0.11  nc  nc72373706  2015-03-27T07:01:05.040Z   \n",
      "982   123   62  0.095790  0.21  nc  nc72388726  2015-05-02T14:06:19.040Z   \n",
      "1150  129   51  0.056810  0.17  nc  nc72357101  2015-03-20T02:05:15.538Z   \n",
      "324   114   55  0.005520  0.13  nc  nc72536780  2015-10-27T23:18:44.040Z   \n",
      "868   171   33  0.019790  0.19  nc  nc72416290  2015-03-29T02:48:18.588Z   \n",
      "962   100   42  0.004533  0.10  nc  nc72392646  2015-02-22T19:53:02.141Z   \n",
      "781    83   51  0.014540  0.11  nc  nc72439620  2015-05-12T03:25:03.690Z   \n",
      "80     95   47  0.002056  0.24  nc  nc72541090  2015-10-21T02:11:04.865Z   \n",
      "1211   95   47  0.043510  0.11  nc  nc72337440  2015-03-20T00:36:11.738Z   \n",
      "430   137   80  0.055100  0.15  nc  nc72521361  2015-09-13T13:18:39.222Z   \n",
      "477    80   47  0.042280  0.09  nc  nc72509416  2015-08-21T00:09:44.619Z   \n",
      "79     90   55  0.003082  0.15  nc  nc72541095  2015-10-20T23:35:05.195Z   \n",
      "...   ...  ...       ...   ...  ..         ...                       ...   \n",
      "216    10  290  0.095480  0.03  nc  nc72539375  2015-10-21T03:33:48.680Z   \n",
      "1205    9  128  0.063770  0.03  nc  nc71088194  2014-11-21T23:53:04.177Z   \n",
      "630    29   58  0.008012  0.14  nc  nc72478406  2015-07-08T01:56:20.170Z   \n",
      "724    22   88  0.057970  0.07  nc  nc72453336  2015-05-27T00:02:42.070Z   \n",
      "438    16   98  0.054880  0.04  nc  nc72518266  2015-09-04T02:52:05.820Z   \n",
      "1024   16   59  0.016980  0.08  nc  nc72378686  2015-01-13T18:13:03.829Z   \n",
      "1008   19  118  0.039580  0.06  nc  nc72382786  2015-01-21T04:33:01.872Z   \n",
      "1240   10  149  0.061340  0.06  nc  nc72336116  2014-11-11T02:04:37.120Z   \n",
      "198    19  112  0.077600  0.06  nc  nc72539600  2015-10-23T03:11:21.910Z   \n",
      "873    15   87  0.025140  0.11  nc  nc72415680  2015-03-25T16:10:16.200Z   \n",
      "124    14   96  0.067640  0.04  nc  nc72540775  2015-10-20T21:10:30.080Z   \n",
      "958    15   97  0.054290  0.10  nc  nc72393281  2015-02-10T07:15:07.979Z   \n",
      "374    14   84  0.036960  0.08  nc  nc72535966  2015-10-08T00:32:30.190Z   \n",
      "539    14  100  0.043640  0.05  nc  nc72498816  2015-08-04T01:12:11.640Z   \n",
      "563    12  142  0.037280  0.07  nc  nc72493721  2015-07-28T01:32:09.640Z   \n",
      "388    18  107  0.025800  0.06  nc  nc72528751  2015-09-23T22:59:34.100Z   \n",
      "504    12  105  0.023060  0.03  nc  nc72504096  2015-08-11T22:49:57.960Z   \n",
      "1052   16   93  0.078010  0.05  nc  nc72371796  2015-01-01T02:01:38.190Z   \n",
      "602    26   75  0.036330  0.05  nc  nc72485411  2015-07-14T21:26:24.180Z   \n",
      "1094   10  132  0.037880  0.04  nc  nc72364666  2014-12-16T23:36:02.778Z   \n",
      "609    22   49  0.004418  0.05  nc  nc72484541  2015-07-14T21:18:52.530Z   \n",
      "813    15   88  0.053790  0.05  nc  nc72433630  2015-04-24T00:11:33.280Z   \n",
      "537    18   89  0.036570  0.06  nc  nc72499096  2015-08-05T06:33:45.370Z   \n",
      "614    20   64  0.024770  0.07  nc  nc72483756  2015-07-13T23:14:51.670Z   \n",
      "526    20   57  0.041910  0.04  nc  nc72500891  2015-08-05T23:07:36.960Z   \n",
      "443    25   66  0.028750  0.05  nc  nc72516981  2015-09-04T02:58:40.820Z   \n",
      "560    11  148  0.011830  0.03  nc  nc72494651  2015-07-29T23:29:36.950Z   \n",
      "667    14   77  0.061270  0.04  nc  nc72466376  2015-06-16T02:05:57.690Z   \n",
      "6      13  102  0.078890  0.07  nc  nc72543000  2015-10-28T02:27:50.450Z   \n",
      "920    26   84  0.052210  0.11  nc  nc72403155  2015-03-05T03:54:05.540Z   \n",
      "\n",
      "                                                  place        type  \n",
      "728                  10km ENE of Yountville, California  earthquake  \n",
      "495                       1km N of Piedmont, California  earthquake  \n",
      "591                      3km NNE of Fremont, California  earthquake  \n",
      "782                       2km SW of Concord, California  earthquake  \n",
      "853                    1km NNW of San Ramon, California  earthquake  \n",
      "126                     1km NE of San Ramon, California  earthquake  \n",
      "762                1km NNE of Pleasant Hill, California  earthquake  \n",
      "297                    1km ENE of San Ramon, California  earthquake  \n",
      "177                     1km NE of San Ramon, California  earthquake  \n",
      "18                     1km ENE of San Ramon, California  earthquake  \n",
      "550                   14km ESE of Alum Rock, California  earthquake  \n",
      "9                        0km E of San Ramon, California  earthquake  \n",
      "8                      0km ENE of San Ramon, California  earthquake  \n",
      "1126                  9km NNE of Day Valley, California  earthquake  \n",
      "512   11km SSW of Tamalpais-Homestead Valley, Califo...  earthquake  \n",
      "336                    1km ENE of San Ramon, California  earthquake  \n",
      "891                  2km NNE of San Leandro, California  earthquake  \n",
      "763                 1km NE of Pleasant Hill, California  earthquake  \n",
      "1039                      7km SW of Kenwood, California  earthquake  \n",
      "982                  11km ENE of Yountville, California  earthquake  \n",
      "1150                    5km S of Yountville, California  earthquake  \n",
      "324                     1km NE of San Ramon, California  earthquake  \n",
      "868                   1km N of Monte Sereno, California  earthquake  \n",
      "962            1km SE of Emerald Lake Hills, California  earthquake  \n",
      "781                      2km SSW of Concord, California  earthquake  \n",
      "80                       1km N of San Ramon, California  earthquake  \n",
      "1211                    5km SW of Cupertino, California  earthquake  \n",
      "430                   6km SSW of Yountville, California  earthquake  \n",
      "477                       9km ESE of Gilroy, California  earthquake  \n",
      "79                      1km NE of San Ramon, California  earthquake  \n",
      "...                                                 ...         ...  \n",
      "216                      2km E of San Ramon, California  earthquake  \n",
      "1205                  7km SSW of Yountville, California  earthquake  \n",
      "630                         6km SE of Rodeo, California  earthquake  \n",
      "724                 10km NNE of Morgan Hill, California  earthquake  \n",
      "438                  9km ENE of Morgan Hill, California  earthquake  \n",
      "1024                    6km WSW of Eldridge, California  earthquake  \n",
      "1008                      6km SW of Clayton, California  earthquake  \n",
      "1240                    9km SE of Livermore, California  earthquake  \n",
      "198                    1km ENE of San Ramon, California  earthquake  \n",
      "873               7km SSE of Portola Valley, California  earthquake  \n",
      "124                    1km NNE of San Ramon, California  earthquake  \n",
      "958              6km NNW of American Canyon, California  earthquake  \n",
      "374                   14km E of Seven Trees, California  earthquake  \n",
      "539                       2km NE of Fremont, California  earthquake  \n",
      "563                         5km W of Newark, California  earthquake  \n",
      "388                      1km ESE of Vallejo, California  earthquake  \n",
      "504                   16km N of Morgan Hill, California  earthquake  \n",
      "1052              7km NNE of East Foothills, California  earthquake  \n",
      "602                    10km ENE of Milpitas, California  earthquake  \n",
      "1094                  14km E of Seven Trees, California  earthquake  \n",
      "609                   8km ENE of San Martin, California  earthquake  \n",
      "813                    4km NW of Day Valley, California  earthquake  \n",
      "537                      4km ESE of Fremont, California  earthquake  \n",
      "614                         9km E of Gilroy, California  earthquake  \n",
      "526                      9km E of Alum Rock, California  earthquake  \n",
      "443                    9km NE of San Martin, California  earthquake  \n",
      "560               19km NE of East Foothills, California  earthquake  \n",
      "667              12km ENE of East Foothills, California  earthquake  \n",
      "6                      1km ENE of San Ramon, California  earthquake  \n",
      "920                2km W of American Canyon, California  earthquake  \n",
      "\n",
      "[1258 rows x 15 columns]\n"
     ]
    }
   ],
   "source": [
    "print eq.sort_index(by='mag',ascending=False)"
   ]
  },
  {
   "cell_type": "markdown",
   "metadata": {},
   "source": [
    "## Turning all events into the day they happened"
   ]
  },
  {
   "cell_type": "code",
   "execution_count": 3,
   "metadata": {
    "collapsed": false
   },
   "outputs": [
    {
     "name": "stdout",
     "output_type": "stream",
     "text": [
      "0       2015-10-24\n",
      "1       2015-10-24\n",
      "2       2015-10-24\n",
      "3       2015-10-24\n",
      "4       2015-10-24\n",
      "5       2015-10-24\n",
      "6       2015-10-24\n",
      "7       2015-10-24\n",
      "8       2015-10-24\n",
      "9       2015-10-24\n",
      "10      2015-10-24\n",
      "11      2015-10-24\n",
      "12      2015-10-24\n",
      "13      2015-10-24\n",
      "14      2015-10-24\n",
      "15      2015-10-23\n",
      "16      2015-10-23\n",
      "17      2015-10-23\n",
      "18      2015-10-23\n",
      "19      2015-10-23\n",
      "20      2015-10-23\n",
      "21      2015-10-23\n",
      "22      2015-10-23\n",
      "23      2015-10-23\n",
      "24      2015-10-23\n",
      "25      2015-10-23\n",
      "26      2015-10-23\n",
      "27      2015-10-23\n",
      "28      2015-10-23\n",
      "29      2015-10-23\n",
      "           ...    \n",
      "1228    2014-11-02\n",
      "1229    2014-11-02\n",
      "1230    2014-11-01\n",
      "1231    2014-11-01\n",
      "1232    2014-11-01\n",
      "1233    2014-11-01\n",
      "1234    2014-11-01\n",
      "1235    2014-11-01\n",
      "1236    2014-11-01\n",
      "1237    2014-11-01\n",
      "1238    2014-11-01\n",
      "1239    2014-10-31\n",
      "1240    2014-10-31\n",
      "1241    2014-10-31\n",
      "1242    2014-10-30\n",
      "1243    2014-10-29\n",
      "1244    2014-10-29\n",
      "1245    2014-10-29\n",
      "1246    2014-10-29\n",
      "1247    2014-10-29\n",
      "1248    2014-10-29\n",
      "1249    2014-10-28\n",
      "1250    2014-10-28\n",
      "1251    2014-10-28\n",
      "1252    2014-10-28\n",
      "1253    2014-10-28\n",
      "1254    2014-10-27\n",
      "1255    2014-10-27\n",
      "1256    2014-10-27\n",
      "1257    2014-10-27\n",
      "Name: time, dtype: object\n",
      "0       2015-10-25\n",
      "1       2015-10-25\n",
      "2       2015-10-25\n",
      "3       2015-10-25\n",
      "4       2015-10-25\n",
      "5       2015-10-25\n",
      "6       2015-10-25\n",
      "7       2015-10-25\n",
      "8       2015-10-25\n",
      "9       2015-10-25\n",
      "10      2015-10-25\n",
      "11      2015-10-25\n",
      "12      2015-10-25\n",
      "13      2015-10-24\n",
      "14      2015-10-24\n",
      "15      2015-10-24\n",
      "16      2015-10-24\n",
      "17      2015-10-24\n",
      "18      2015-10-24\n",
      "19      2015-10-24\n",
      "20      2015-10-24\n",
      "21      2015-10-24\n",
      "22      2015-10-24\n",
      "23      2015-10-24\n",
      "24      2015-10-24\n",
      "25      2015-10-24\n",
      "26      2015-10-24\n",
      "27      2015-10-24\n",
      "28      2015-10-24\n",
      "29      2015-10-24\n",
      "           ...    \n",
      "6025    1979-07-03\n",
      "6026    1979-06-25\n",
      "6027    1979-06-17\n",
      "6028    1979-06-11\n",
      "6029    1979-05-08\n",
      "6030    1979-04-28\n",
      "6031    1979-03-12\n",
      "6032    1979-02-21\n",
      "6033    1979-02-05\n",
      "6034    1979-01-19\n",
      "6035    1979-01-11\n",
      "6036    1979-01-11\n",
      "6037    1978-10-27\n",
      "6038    1978-09-21\n",
      "6039    1978-08-29\n",
      "6040    1978-08-29\n",
      "6041    1978-08-28\n",
      "6042    1978-07-31\n",
      "6043    1978-07-18\n",
      "6044    1978-05-11\n",
      "6045    1978-05-11\n",
      "6046    1978-05-11\n",
      "6047    1978-05-11\n",
      "6048    1978-05-10\n",
      "6049    1978-05-08\n",
      "6050    1978-02-14\n",
      "6051    1978-02-14\n",
      "6052    1977-12-12\n",
      "6053    1977-11-26\n",
      "6054    1977-11-01\n",
      "Name: time, dtype: object\n"
     ]
    }
   ],
   "source": [
    "#eq['time'] = pd.DatetimeIndex(eq['time']).to_period('D') # Turning it into the day\n",
    "\n",
    "# For eq dataset\n",
    "for i in range(1258):\n",
    "    end = eq.time[i].find('T') # We are just interested in the date not the time\n",
    "    date = eq.time[i][:end] # Getting the date, like 2014-12-24\n",
    "    eq.set_value(i, 'time', date)\n",
    "    \n",
    "print eq.time\n",
    "\n",
    "# For eq2 dataset\n",
    "for i in range(6055):\n",
    "    end = eq2.time[i].find('T') # We are just interested in the date not the time\n",
    "    date = eq2.time[i][:end] # Getting the date, like 2014-12-24\n",
    "    eq2.set_value(i, 'time', date)\n",
    "    \n",
    "print eq2.time"
   ]
  },
  {
   "cell_type": "code",
   "execution_count": 4,
   "metadata": {
    "collapsed": false
   },
   "outputs": [
    {
     "data": {
      "text/plain": [
       "<matplotlib.axes._subplots.AxesSubplot at 0x109cf3d50>"
      ]
     },
     "execution_count": 4,
     "metadata": {},
     "output_type": "execute_result"
    },
    {
     "data": {
      "image/png": "[encoded data removed]",
      "text/plain": [
       "<matplotlib.figure.Figure at 0x109db31d0>"
      ]
     },
     "metadata": {},
     "output_type": "display_data"
    }
   ],
   "source": [
    "eq.plot(x='time', y='mag', style=\".\") #Make sure you used the magic variabl %matplotlib inline"
   ]
  },
  {
   "cell_type": "code",
   "execution_count": 5,
   "metadata": {
    "collapsed": false
   },
   "outputs": [
    {
     "data": {
      "text/html": [
       "<div>\n",
       "<table border=\"1\" class=\"dataframe\">\n",
       "  <thead>\n",
       "    <tr style=\"text-align: right;\">\n",
       "      <th></th>\n",
       "      <th>latitude</th>\n",
       "      <th>longitude</th>\n",
       "      <th>depth</th>\n",
       "      <th>mag</th>\n",
       "      <th>nst</th>\n",
       "      <th>gap</th>\n",
       "      <th>dmin</th>\n",
       "      <th>rms</th>\n",
       "    </tr>\n",
       "  </thead>\n",
       "  <tbody>\n",
       "    <tr>\n",
       "      <th>latitude</th>\n",
       "      <td>1.000000</td>\n",
       "      <td>-0.695174</td>\n",
       "      <td>0.292549</td>\n",
       "      <td>0.108151</td>\n",
       "      <td>0.006007</td>\n",
       "      <td>0.148661</td>\n",
       "      <td>0.137635</td>\n",
       "      <td>0.305705</td>\n",
       "    </tr>\n",
       "    <tr>\n",
       "      <th>longitude</th>\n",
       "      <td>-0.695174</td>\n",
       "      <td>1.000000</td>\n",
       "      <td>-0.141476</td>\n",
       "      <td>-0.059515</td>\n",
       "      <td>-0.036166</td>\n",
       "      <td>-0.176090</td>\n",
       "      <td>-0.056094</td>\n",
       "      <td>-0.205186</td>\n",
       "    </tr>\n",
       "    <tr>\n",
       "      <th>depth</th>\n",
       "      <td>0.292549</td>\n",
       "      <td>-0.141476</td>\n",
       "      <td>1.000000</td>\n",
       "      <td>0.125771</td>\n",
       "      <td>0.105902</td>\n",
       "      <td>0.109424</td>\n",
       "      <td>0.076852</td>\n",
       "      <td>0.188639</td>\n",
       "    </tr>\n",
       "    <tr>\n",
       "      <th>mag</th>\n",
       "      <td>0.108151</td>\n",
       "      <td>-0.059515</td>\n",
       "      <td>0.125771</td>\n",
       "      <td>1.000000</td>\n",
       "      <td>0.868849</td>\n",
       "      <td>-0.318463</td>\n",
       "      <td>-0.162220</td>\n",
       "      <td>0.504952</td>\n",
       "    </tr>\n",
       "    <tr>\n",
       "      <th>nst</th>\n",
       "      <td>0.006007</td>\n",
       "      <td>-0.036166</td>\n",
       "      <td>0.105902</td>\n",
       "      <td>0.868849</td>\n",
       "      <td>1.000000</td>\n",
       "      <td>-0.416023</td>\n",
       "      <td>-0.262574</td>\n",
       "      <td>0.480120</td>\n",
       "    </tr>\n",
       "    <tr>\n",
       "      <th>gap</th>\n",
       "      <td>0.148661</td>\n",
       "      <td>-0.176090</td>\n",
       "      <td>0.109424</td>\n",
       "      <td>-0.318463</td>\n",
       "      <td>-0.416023</td>\n",
       "      <td>1.000000</td>\n",
       "      <td>0.354057</td>\n",
       "      <td>-0.122995</td>\n",
       "    </tr>\n",
       "    <tr>\n",
       "      <th>dmin</th>\n",
       "      <td>0.137635</td>\n",
       "      <td>-0.056094</td>\n",
       "      <td>0.076852</td>\n",
       "      <td>-0.162220</td>\n",
       "      <td>-0.262574</td>\n",
       "      <td>0.354057</td>\n",
       "      <td>1.000000</td>\n",
       "      <td>-0.097603</td>\n",
       "    </tr>\n",
       "    <tr>\n",
       "      <th>rms</th>\n",
       "      <td>0.305705</td>\n",
       "      <td>-0.205186</td>\n",
       "      <td>0.188639</td>\n",
       "      <td>0.504952</td>\n",
       "      <td>0.480120</td>\n",
       "      <td>-0.122995</td>\n",
       "      <td>-0.097603</td>\n",
       "      <td>1.000000</td>\n",
       "    </tr>\n",
       "  </tbody>\n",
       "</table>\n",
       "</div>"
      ],
      "text/plain": [
       "           latitude  longitude     depth       mag       nst       gap  \\\n",
       "latitude   1.000000  -0.695174  0.292549  0.108151  0.006007  0.148661   \n",
       "longitude -0.695174   1.000000 -0.141476 -0.059515 -0.036166 -0.176090   \n",
       "depth      0.292549  -0.141476  1.000000  0.125771  0.105902  0.109424   \n",
       "mag        0.108151  -0.059515  0.125771  1.000000  0.868849 -0.318463   \n",
       "nst        0.006007  -0.036166  0.105902  0.868849  1.000000 -0.416023   \n",
       "gap        0.148661  -0.176090  0.109424 -0.318463 -0.416023  1.000000   \n",
       "dmin       0.137635  -0.056094  0.076852 -0.162220 -0.262574  0.354057   \n",
       "rms        0.305705  -0.205186  0.188639  0.504952  0.480120 -0.122995   \n",
       "\n",
       "               dmin       rms  \n",
       "latitude   0.137635  0.305705  \n",
       "longitude -0.056094 -0.205186  \n",
       "depth      0.076852  0.188639  \n",
       "mag       -0.162220  0.504952  \n",
       "nst       -0.262574  0.480120  \n",
       "gap        0.354057 -0.122995  \n",
       "dmin       1.000000 -0.097603  \n",
       "rms       -0.097603  1.000000  "
      ]
     },
     "execution_count": 5,
     "metadata": {},
     "output_type": "execute_result"
    }
   ],
   "source": [
    "# compute correlation matrix\n",
    "eq.corr()"
   ]
  },
  {
   "cell_type": "code",
   "execution_count": 58,
   "metadata": {
    "collapsed": false,
    "scrolled": true
   },
   "outputs": [
    {
     "data": {
      "text/plain": [
       "<matplotlib.axes._subplots.AxesSubplot at 0x116385950>"
      ]
     },
     "execution_count": 58,
     "metadata": {},
     "output_type": "execute_result"
    },
    {
     "data": {
      "image/png": "[encoded data removed]",
      "text/plain": [
       "<matplotlib.figure.Figure at 0x116b419d0>"
      ]
     },
     "metadata": {},
     "output_type": "display_data"
    }
   ],
   "source": [
    "# using the heatmap to better see it\n",
    "sns.heatmap(eq.corr())"
   ]
  },
  {
   "cell_type": "markdown",
   "metadata": {},
   "source": [
    "##Predicting the location based on the magnitude:"
   ]
  },
  {
   "cell_type": "code",
   "execution_count": 3,
   "metadata": {
    "collapsed": false
   },
   "outputs": [
    {
     "name": "stdout",
     "output_type": "stream",
     "text": [
      "['12km NE of Milpitas, California']\n",
      "['8km NE of Gilroy, California']\n"
     ]
    }
   ],
   "source": [
    "'''\n",
    "MACHINE LEARNING WITH KNN\n",
    "'''    \n",
    "X, y = eq['mag'].values, eq['place'].values\n",
    "\n",
    "knn = KNeighborsClassifier(n_neighbors=1)\n",
    "X = X.reshape(1258, 1)\n",
    "y = y.reshape(1258,)\n",
    "knn.fit(X, y) \n",
    "print knn.predict([1.3])\n",
    "print knn.predict([2.3]) "
   ]
  },
  {
   "cell_type": "markdown",
   "metadata": {},
   "source": [
    "Evaluating the accuracy:"
   ]
  },
  {
   "cell_type": "code",
   "execution_count": 4,
   "metadata": {
    "collapsed": false
   },
   "outputs": [
    {
     "name": "stdout",
     "output_type": "stream",
     "text": [
      "With  1  neighbor(s) accuracy: 0.158982511924\n",
      "With  2  neighbor(s) accuracy: 0.150238473768\n",
      "With  3  neighbor(s) accuracy: 0.142289348172\n",
      "With  4  neighbor(s) accuracy: 0.140699523052\n",
      "With  5  neighbor(s) accuracy: 0.137519872814\n"
     ]
    }
   ],
   "source": [
    "for i in range(1, 6):\n",
    "    knn = KNeighborsClassifier(n_neighbors=i)\n",
    "    X = X.reshape(1258,1)\n",
    "    y = y.reshape(1258,)\n",
    "    knn.fit(X, y) \n",
    "    print 'With ',i,' neighbor(s) accuracy:', knn.score(X, y)"
   ]
  },
  {
   "cell_type": "markdown",
   "metadata": {},
   "source": [
    "Out of curiosity looking how this performs with all the data collected from 1977 till now."
   ]
  },
  {
   "cell_type": "code",
   "execution_count": 6,
   "metadata": {
    "collapsed": false
   },
   "outputs": [
    {
     "name": "stdout",
     "output_type": "stream",
     "text": [
      "With  1  neighbor(s) accuracy: 0.17853014038\n",
      "With  2  neighbor(s) accuracy: 0.168951279934\n",
      "With  3  neighbor(s) accuracy: 0.168620974401\n",
      "With  4  neighbor(s) accuracy: 0.184310487201\n",
      "With  5  neighbor(s) accuracy: 0.18612716763\n"
     ]
    }
   ],
   "source": [
    "'''\n",
    "MACHINE LEARNING WITH KNN\n",
    "'''    \n",
    "X, y = eq2['mag'], eq2['place']\n",
    "\n",
    "for i in range(1, 6):\n",
    "    knn = KNeighborsClassifier(n_neighbors=i)\n",
    "    X = X.reshape(6055,1)\n",
    "    y = y.reshape(6055,)\n",
    "    knn.fit(X, y) \n",
    "    print 'With ',i,' neighbor(s) accuracy:', knn.score(X, y)"
   ]
  },
  {
   "cell_type": "markdown",
   "metadata": {},
   "source": [
    "##Predicting the time based on magnitude"
   ]
  },
  {
   "cell_type": "code",
   "execution_count": 6,
   "metadata": {
    "collapsed": false
   },
   "outputs": [
    {
     "name": "stdout",
     "output_type": "stream",
     "text": [
      "['2014-11-03']\n",
      "['2015-01-24']\n"
     ]
    }
   ],
   "source": [
    "'''\n",
    "MACHINE LEARNING WITH KNN\n",
    "'''    \n",
    "X, y = eq['mag'], eq['time']\n",
    "\n",
    "knn = KNeighborsClassifier(n_neighbors=1)\n",
    "X = X.reshape(1258, 1)\n",
    "y = y.reshape(1258,)\n",
    "knn.fit(X, y) \n",
    "print knn.predict([1.3]) \n",
    "print knn.predict([2.3]) "
   ]
  },
  {
   "cell_type": "markdown",
   "metadata": {},
   "source": [
    "Evaluating the accuracy"
   ]
  },
  {
   "cell_type": "code",
   "execution_count": 8,
   "metadata": {
    "collapsed": false
   },
   "outputs": [
    {
     "name": "stdout",
     "output_type": "stream",
     "text": [
      "With  1  neighbor(s) accuracy: 0.160572337043\n",
      "With  2  neighbor(s) accuracy: 0.139904610493\n",
      "With  3  neighbor(s) accuracy: 0.128775834658\n",
      "With  4  neighbor(s) accuracy: 0.126391096979\n",
      "With  5  neighbor(s) accuracy: 0.120826709062\n"
     ]
    }
   ],
   "source": [
    "'''\n",
    "MACHINE LEARNING WITH KNN\n",
    "'''    \n",
    "X, y = eq['mag'], eq['time']\n",
    "\n",
    "for i in range(1, 6):\n",
    "    knn = KNeighborsClassifier(n_neighbors=i)\n",
    "    X = X.reshape(1258,1)\n",
    "    y = y.reshape(1258,)\n",
    "    knn.fit(X, y) \n",
    "    print 'With ',i,' neighbor(s) accuracy:', knn.score(X, y)"
   ]
  },
  {
   "cell_type": "code",
   "execution_count": 10,
   "metadata": {
    "collapsed": false
   },
   "outputs": [
    {
     "name": "stdout",
     "output_type": "stream",
     "text": [
      "With  1  neighbor(s) accuracy: 0.0505367464905\n",
      "With  2  neighbor(s) accuracy: 0.0445912469034\n",
      "With  3  neighbor(s) accuracy: 0.0407927332783\n",
      "With  4  neighbor(s) accuracy: 0.0371593724195\n",
      "With  5  neighbor(s) accuracy: 0.0355078447564\n"
     ]
    }
   ],
   "source": [
    "'''\n",
    "MACHINE LEARNING WITH KNN\n",
    "'''    \n",
    "X, y = eq2['mag'], eq2['time']\n",
    "\n",
    "for i in range(1, 6):\n",
    "    knn = KNeighborsClassifier(n_neighbors=i)\n",
    "    X = X.reshape(6055,1)\n",
    "    y = y.reshape(6055,)\n",
    "    knn.fit(X, y) \n",
    "    print 'With ',i,' neighbor(s) accuracy:', knn.score(X, y)"
   ]
  },
  {
   "cell_type": "markdown",
   "metadata": {},
   "source": [
    "##Logistic Regression Model"
   ]
  },
  {
   "cell_type": "code",
   "execution_count": 12,
   "metadata": {
    "collapsed": false
   },
   "outputs": [
    {
     "name": "stdout",
     "output_type": "stream",
     "text": [
      "Accuracy 2014-2015: 0.104761904762\n",
      "Accuracy 1977-2015: 0.178335535007\n"
     ]
    }
   ],
   "source": [
    "# create X and y\n",
    "X = eq[['mag']]\n",
    "y = eq.place\n",
    "\n",
    "# split into train and test\n",
    "from sklearn.cross_validation import train_test_split\n",
    "X_train, X_test, y_train, y_test = train_test_split(X, y, random_state=1)\n",
    "\n",
    "# create logistic regression model\n",
    "from sklearn.linear_model import LogisticRegression\n",
    "logreg = LogisticRegression()\n",
    "logreg.fit(X_train, y_train)\n",
    "\n",
    "# predict and calculate accuracy in one step\n",
    "logreg.score(X_test, y_test)\n",
    "\n",
    "# predict in one step, calculate accuracy in a separate step\n",
    "preds = logreg.predict(X_test)\n",
    "from sklearn import metrics\n",
    "\n",
    "# create X and y\n",
    "X2 = eq2[['mag']]\n",
    "y2 = eq2.place\n",
    "\n",
    "# split into train and test\n",
    "from sklearn.cross_validation import train_test_split\n",
    "X2_train, X2_test, y2_train, y2_test = train_test_split(X2, y2, random_state=1)\n",
    "\n",
    "# create logistic regression model\n",
    "from sklearn.linear_model import LogisticRegression\n",
    "logreg = LogisticRegression()\n",
    "logreg.fit(X2_train, y2_train)\n",
    "\n",
    "# predict and calculate accuracy in one step\n",
    "logreg.score(X2_test, y2_test)\n",
    "\n",
    "# predict in one step, calculate accuracy in a separate step\n",
    "preds2 = logreg.predict(X2_test)\n",
    "from sklearn import metrics\n",
    "print 'Accuracy 2014-2015:', metrics.accuracy_score(y_test, preds)\n",
    "print 'Accuracy 1977-2015:', metrics.accuracy_score(y2_test, preds2)"
   ]
  },
  {
   "cell_type": "code",
   "execution_count": 4,
   "metadata": {
    "collapsed": false
   },
   "outputs": [
    {
     "name": "stdout",
     "output_type": "stream",
     "text": [
      "Accuracy 2014-2015: 0.0507936507937\n",
      "Accuracy 1977-2015: 0.0310435931308\n"
     ]
    }
   ],
   "source": [
    "# create X and y\n",
    "X = eq[['mag']]\n",
    "y = eq.time\n",
    "\n",
    "# split into train and test\n",
    "from sklearn.cross_validation import train_test_split\n",
    "X_train, X_test, y_train, y_test = train_test_split(X, y, random_state=1)\n",
    "\n",
    "# create logistic regression model\n",
    "from sklearn.linear_model import LogisticRegression\n",
    "logreg = LogisticRegression()\n",
    "logreg.fit(X_train, y_train)\n",
    "\n",
    "# predict and calculate accuracy in one step\n",
    "logreg.score(X_test, y_test)\n",
    "\n",
    "# predict in one step, calculate accuracy in a separate step\n",
    "preds = logreg.predict(X_test)\n",
    "from sklearn import metrics\n",
    "\n",
    "# create X and y\n",
    "X2 = eq2[['mag']]\n",
    "y2 = eq2.time\n",
    "\n",
    "# split into train and test\n",
    "from sklearn.cross_validation import train_test_split\n",
    "X2_train, X2_test, y2_train, y2_test = train_test_split(X2, y2, random_state=1)\n",
    "\n",
    "# create logistic regression model\n",
    "from sklearn.linear_model import LogisticRegression\n",
    "logreg = LogisticRegression()\n",
    "logreg.fit(X2_train, y2_train)\n",
    "\n",
    "# predict and calculate accuracy in one step\n",
    "logreg.score(X2_test, y2_test)\n",
    "\n",
    "# predict in one step, calculate accuracy in a separate step\n",
    "preds2 = logreg.predict(X2_test)\n",
    "from sklearn import metrics\n",
    "print 'Accuracy 2014-2015:', metrics.accuracy_score(y_test, preds)\n",
    "print 'Accuracy 1977-2015:', metrics.accuracy_score(y2_test, preds2)"
   ]
  },
  {
   "cell_type": "markdown",
   "metadata": {},
   "source": [
    "##How does the weather influence earthquakes?"
   ]
  },
  {
   "cell_type": "code",
   "execution_count": 6,
   "metadata": {
    "collapsed": false
   },
   "outputs": [
    {
     "data": {
      "text/plain": [
       "0       70\n",
       "1       70\n",
       "2       70\n",
       "3       70\n",
       "4       70\n",
       "5       70\n",
       "6       70\n",
       "7       70\n",
       "8       70\n",
       "9       70\n",
       "10      70\n",
       "11      70\n",
       "12      70\n",
       "13      70\n",
       "14      70\n",
       "15      69\n",
       "16      69\n",
       "17      69\n",
       "18      69\n",
       "19      69\n",
       "20      69\n",
       "21      69\n",
       "22      69\n",
       "23      69\n",
       "24      69\n",
       "25      69\n",
       "26      69\n",
       "27      69\n",
       "28      69\n",
       "29      69\n",
       "        ..\n",
       "1228    66\n",
       "1229    66\n",
       "1230    65\n",
       "1231    65\n",
       "1232    65\n",
       "1233    65\n",
       "1234    65\n",
       "1235    65\n",
       "1236    65\n",
       "1237    65\n",
       "1238    65\n",
       "1239    64\n",
       "1240    64\n",
       "1241    64\n",
       "1242    74\n",
       "1243    80\n",
       "1244    80\n",
       "1245    80\n",
       "1246    80\n",
       "1247    80\n",
       "1248    80\n",
       "1249    71\n",
       "1250    71\n",
       "1251    71\n",
       "1252    71\n",
       "1253    71\n",
       "1254    70\n",
       "1255    70\n",
       "1256    70\n",
       "1257    70\n",
       "Name: MaxTemp, dtype: float64"
      ]
     },
     "execution_count": 6,
     "metadata": {},
     "output_type": "execute_result"
    }
   ],
   "source": [
    "# read data into a DataFrame\n",
    "\n",
    "weather = pd.read_csv('data/weather.csv')\n",
    "\n",
    "weatherdf = pd.DataFrame(weather)\n",
    "\n",
    "import pandas as pd\n",
    "eq = pd.read_csv('data/eq.csv')\n",
    "\n",
    "def weathereq():\n",
    "    for i in range(eq.time.shape[0]):\n",
    "        end = eq.time[i].find('T') # We are just interested in the date not the time\n",
    "        date = eq.time[i][:end] # Getting the date, like 2014-12-24\n",
    "        maxtemp = weatherdf[weatherdf.Date == date].Max # Finding the date in the weather data set\n",
    "        maxtemp = maxtemp.values[0] # Getting the max temperature value\n",
    "        eq.set_value(i, 'MaxTemp', maxtemp) # Adding the max temperature to the specific day\n",
    "        \n",
    "weathereq()\n",
    "\n",
    "eq.MaxTemp"
   ]
  },
  {
   "cell_type": "code",
   "execution_count": 17,
   "metadata": {
    "collapsed": false
   },
   "outputs": [
    {
     "data": {
      "text/plain": [
       "<seaborn.axisgrid.PairGrid at 0x10e108950>"
      ]
     },
     "execution_count": 17,
     "metadata": {},
     "output_type": "execute_result"
    },
    {
     "data": {
      "image/png": "[encoded data removed]",
      "text/plain": [
       "<matplotlib.figure.Figure at 0x10a7db290>"
      ]
     },
     "metadata": {},
     "output_type": "display_data"
    }
   ],
   "source": [
    "sns.pairplot(eq, x_vars=['mag'], y_vars='MaxTemp', size=7, aspect=0.7, kind='reg')"
   ]
  },
  {
   "cell_type": "code",
   "execution_count": 5,
   "metadata": {
    "collapsed": false,
    "scrolled": true
   },
   "outputs": [
    {
     "data": {
      "text/html": [
       "<div>\n",
       "<table border=\"1\" class=\"dataframe\">\n",
       "  <thead>\n",
       "    <tr style=\"text-align: right;\">\n",
       "      <th></th>\n",
       "      <th>latitude</th>\n",
       "      <th>longitude</th>\n",
       "      <th>depth</th>\n",
       "      <th>mag</th>\n",
       "      <th>nst</th>\n",
       "      <th>gap</th>\n",
       "      <th>dmin</th>\n",
       "      <th>rms</th>\n",
       "    </tr>\n",
       "  </thead>\n",
       "  <tbody>\n",
       "    <tr>\n",
       "      <th>latitude</th>\n",
       "      <td>1.000000</td>\n",
       "      <td>-0.695174</td>\n",
       "      <td>0.292549</td>\n",
       "      <td>0.108151</td>\n",
       "      <td>0.006007</td>\n",
       "      <td>0.148661</td>\n",
       "      <td>0.137635</td>\n",
       "      <td>0.305705</td>\n",
       "    </tr>\n",
       "    <tr>\n",
       "      <th>longitude</th>\n",
       "      <td>-0.695174</td>\n",
       "      <td>1.000000</td>\n",
       "      <td>-0.141476</td>\n",
       "      <td>-0.059515</td>\n",
       "      <td>-0.036166</td>\n",
       "      <td>-0.176090</td>\n",
       "      <td>-0.056094</td>\n",
       "      <td>-0.205186</td>\n",
       "    </tr>\n",
       "    <tr>\n",
       "      <th>depth</th>\n",
       "      <td>0.292549</td>\n",
       "      <td>-0.141476</td>\n",
       "      <td>1.000000</td>\n",
       "      <td>0.125771</td>\n",
       "      <td>0.105902</td>\n",
       "      <td>0.109424</td>\n",
       "      <td>0.076852</td>\n",
       "      <td>0.188639</td>\n",
       "    </tr>\n",
       "    <tr>\n",
       "      <th>mag</th>\n",
       "      <td>0.108151</td>\n",
       "      <td>-0.059515</td>\n",
       "      <td>0.125771</td>\n",
       "      <td>1.000000</td>\n",
       "      <td>0.868849</td>\n",
       "      <td>-0.318463</td>\n",
       "      <td>-0.162220</td>\n",
       "      <td>0.504952</td>\n",
       "    </tr>\n",
       "    <tr>\n",
       "      <th>nst</th>\n",
       "      <td>0.006007</td>\n",
       "      <td>-0.036166</td>\n",
       "      <td>0.105902</td>\n",
       "      <td>0.868849</td>\n",
       "      <td>1.000000</td>\n",
       "      <td>-0.416023</td>\n",
       "      <td>-0.262574</td>\n",
       "      <td>0.480120</td>\n",
       "    </tr>\n",
       "    <tr>\n",
       "      <th>gap</th>\n",
       "      <td>0.148661</td>\n",
       "      <td>-0.176090</td>\n",
       "      <td>0.109424</td>\n",
       "      <td>-0.318463</td>\n",
       "      <td>-0.416023</td>\n",
       "      <td>1.000000</td>\n",
       "      <td>0.354057</td>\n",
       "      <td>-0.122995</td>\n",
       "    </tr>\n",
       "    <tr>\n",
       "      <th>dmin</th>\n",
       "      <td>0.137635</td>\n",
       "      <td>-0.056094</td>\n",
       "      <td>0.076852</td>\n",
       "      <td>-0.162220</td>\n",
       "      <td>-0.262574</td>\n",
       "      <td>0.354057</td>\n",
       "      <td>1.000000</td>\n",
       "      <td>-0.097603</td>\n",
       "    </tr>\n",
       "    <tr>\n",
       "      <th>rms</th>\n",
       "      <td>0.305705</td>\n",
       "      <td>-0.205186</td>\n",
       "      <td>0.188639</td>\n",
       "      <td>0.504952</td>\n",
       "      <td>0.480120</td>\n",
       "      <td>-0.122995</td>\n",
       "      <td>-0.097603</td>\n",
       "      <td>1.000000</td>\n",
       "    </tr>\n",
       "  </tbody>\n",
       "</table>\n",
       "</div>"
      ],
      "text/plain": [
       "           latitude  longitude     depth       mag       nst       gap  \\\n",
       "latitude   1.000000  -0.695174  0.292549  0.108151  0.006007  0.148661   \n",
       "longitude -0.695174   1.000000 -0.141476 -0.059515 -0.036166 -0.176090   \n",
       "depth      0.292549  -0.141476  1.000000  0.125771  0.105902  0.109424   \n",
       "mag        0.108151  -0.059515  0.125771  1.000000  0.868849 -0.318463   \n",
       "nst        0.006007  -0.036166  0.105902  0.868849  1.000000 -0.416023   \n",
       "gap        0.148661  -0.176090  0.109424 -0.318463 -0.416023  1.000000   \n",
       "dmin       0.137635  -0.056094  0.076852 -0.162220 -0.262574  0.354057   \n",
       "rms        0.305705  -0.205186  0.188639  0.504952  0.480120 -0.122995   \n",
       "\n",
       "               dmin       rms  \n",
       "latitude   0.137635  0.305705  \n",
       "longitude -0.056094 -0.205186  \n",
       "depth      0.076852  0.188639  \n",
       "mag       -0.162220  0.504952  \n",
       "nst       -0.262574  0.480120  \n",
       "gap        0.354057 -0.122995  \n",
       "dmin       1.000000 -0.097603  \n",
       "rms       -0.097603  1.000000  "
      ]
     },
     "execution_count": 5,
     "metadata": {},
     "output_type": "execute_result"
    }
   ],
   "source": [
    "eq.corr()"
   ]
  },
  {
   "cell_type": "markdown",
   "metadata": {},
   "source": [
    "Nothing is really corelated."
   ]
  },
  {
   "cell_type": "markdown",
   "metadata": {},
   "source": [
    "##Mapping it"
   ]
  },
  {
   "cell_type": "code",
   "execution_count": 132,
   "metadata": {
    "collapsed": false
   },
   "outputs": [
    {
     "data": {
      "text/plain": [
       "[<matplotlib.lines.Line2D at 0x10ebd0bd0>]"
      ]
     },
     "execution_count": 132,
     "metadata": {},
     "output_type": "execute_result"
    },
    {
     "data": {
      "image/png": "[encoded data removed]",
      "text/plain": [
       "<matplotlib.figure.Figure at 0x10f388e50>"
      ]
     },
     "metadata": {},
     "output_type": "display_data"
    }
   ],
   "source": [
    "import numpy as np\n",
    "import matplotlib.pyplot as plt\n",
    "plt.plot(eq.longitude, eq.latitude, 'rs') # Draw red squares\n"
   ]
  },
  {
   "cell_type": "code",
   "execution_count": null,
   "metadata": {
    "collapsed": true
   },
   "outputs": [],
   "source": []
  }
 ],
 "metadata": {
  "kernelspec": {
   "display_name": "Python 2",
   "language": "python",
   "name": "python2"
  },
  "language_info": {
   "codemirror_mode": {
    "name": "ipython",
    "version": 2
   },
   "file_extension": ".py",
   "mimetype": "text/x-python",
   "name": "python",
   "nbconvert_exporter": "python",
   "pygments_lexer": "ipython2",
   "version": "2.7.10"
  }
 },
 "nbformat": 4,
 "nbformat_minor": 0
}
